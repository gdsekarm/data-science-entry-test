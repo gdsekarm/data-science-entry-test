{
 "cells": [
  {
   "cell_type": "code",
   "execution_count": 2,
   "id": "35f832c0-77e3-4c88-a7dd-95032bad64a1",
   "metadata": {
    "tags": []
   },
   "outputs": [],
   "source": [
    "def update_dictionary(dct, key, value):\n",
    "    if key in dct:\n",
    "        print(f\"Key '{key}' already exists. Original value: {dct[key]}\")\n",
    " \n",
    "    dct[key] = value\n",
    "\n",
    "    return dct"
   ]
  },
  {
   "cell_type": "code",
   "execution_count": 4,
   "id": "46cc0fda-746e-4604-8a93-beefec1bbbe4",
   "metadata": {
    "tags": []
   },
   "outputs": [
    {
     "data": {
      "text/plain": [
       "{'name': 'Alice'}"
      ]
     },
     "execution_count": 4,
     "metadata": {},
     "output_type": "execute_result"
    }
   ],
   "source": [
    "update_dictionary({},\"name\", \"Alice\")"
   ]
  },
  {
   "cell_type": "code",
   "execution_count": 6,
   "id": "a56f2aae-2b3e-49a0-bbfc-77b0842817ee",
   "metadata": {
    "tags": []
   },
   "outputs": [
    {
     "name": "stdout",
     "output_type": "stream",
     "text": [
      "Key 'age' already exists. Original value: 25\n"
     ]
    },
    {
     "data": {
      "text/plain": [
       "{'age': 26}"
      ]
     },
     "execution_count": 6,
     "metadata": {},
     "output_type": "execute_result"
    }
   ],
   "source": [
    "update_dictionary({\"age\": 25}, \"age\", 26)"
   ]
  },
  {
   "cell_type": "code",
   "execution_count": null,
   "id": "e051d001-ff47-4fd0-a794-0468c60e8b46",
   "metadata": {},
   "outputs": [],
   "source": []
  }
 ],
 "metadata": {
  "kernelspec": {
   "display_name": "Python 3 (ipykernel)",
   "language": "python",
   "name": "python3"
  },
  "language_info": {
   "codemirror_mode": {
    "name": "ipython",
    "version": 3
   },
   "file_extension": ".py",
   "mimetype": "text/x-python",
   "name": "python",
   "nbconvert_exporter": "python",
   "pygments_lexer": "ipython3",
   "version": "3.11.5"
  }
 },
 "nbformat": 4,
 "nbformat_minor": 5
}
