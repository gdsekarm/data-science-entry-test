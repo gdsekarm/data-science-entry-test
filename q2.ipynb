{
 "cells": [
  {
   "cell_type": "code",
   "execution_count": 3,
   "id": "01c3ef2d-384a-4469-ade2-44508274f59f",
   "metadata": {
    "tags": []
   },
   "outputs": [],
   "source": [
    "def find_and_replace(lst, find_val, replace_val):\n",
    "    if type(lst) is not list:\n",
    "        print(\"Error: The first argument 'lst' must be a list.\")\n",
    "        return None\n",
    "\n",
    "    modified_lst = []\n",
    "    for item in lst:\n",
    "        if item == find_val:\n",
    "            modified_lst.append(replace_val)\n",
    "        else:\n",
    "            modified_lst.append(item)\n",
    "            \n",
    "    return modified_lst"
   ]
  },
  {
   "cell_type": "code",
   "execution_count": 5,
   "id": "ab1f8da8-4d3e-48c9-bfb4-438e20c7808b",
   "metadata": {
    "tags": []
   },
   "outputs": [
    {
     "data": {
      "text/plain": [
       "[1, 5, 3, 4, 5, 5]"
      ]
     },
     "execution_count": 5,
     "metadata": {},
     "output_type": "execute_result"
    }
   ],
   "source": [
    "find_and_replace([1, 2, 3, 4, 2, 2], 2, 5)"
   ]
  },
  {
   "cell_type": "code",
   "execution_count": 7,
   "id": "d8857406-4f40-4f94-8f76-6bea1405848d",
   "metadata": {
    "tags": []
   },
   "outputs": [
    {
     "data": {
      "text/plain": [
       "['orange', 'banana', 'orange']"
      ]
     },
     "execution_count": 7,
     "metadata": {},
     "output_type": "execute_result"
    }
   ],
   "source": [
    "find_and_replace([\"apple\", \"banana\", \"apple\"], \"apple\", \"orange\")"
   ]
  },
  {
   "cell_type": "code",
   "execution_count": null,
   "id": "1dfd2e51-d08e-4d33-9673-ad04e16f0f89",
   "metadata": {},
   "outputs": [],
   "source": []
  }
 ],
 "metadata": {
  "kernelspec": {
   "display_name": "Python 3 (ipykernel)",
   "language": "python",
   "name": "python3"
  },
  "language_info": {
   "codemirror_mode": {
    "name": "ipython",
    "version": 3
   },
   "file_extension": ".py",
   "mimetype": "text/x-python",
   "name": "python",
   "nbconvert_exporter": "python",
   "pygments_lexer": "ipython3",
   "version": "3.11.5"
  }
 },
 "nbformat": 4,
 "nbformat_minor": 5
}
