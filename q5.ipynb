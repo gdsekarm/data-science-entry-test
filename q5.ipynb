{
 "cells": [
  {
   "cell_type": "code",
   "execution_count": 20,
   "id": "d7dc6782-69c8-4442-9982-3ac1ad52ca1f",
   "metadata": {
    "tags": []
   },
   "outputs": [],
   "source": [
    "def check_divisibility(num, divisor):\n",
    "    if not (type(num) in (int, float) and type(divisor) in (int, float)):\n",
    "        print(\"Error: Both num and divisor must be numeric.\")\n",
    "        return None\n",
    "    \n",
    "    if(num % divisor == 0):\n",
    "        return True\n",
    "    else:\n",
    "        return False  \n"
   ]
  },
  {
   "cell_type": "code",
   "execution_count": 22,
   "id": "93c3618e-9836-4146-8480-308683fb8fd1",
   "metadata": {
    "tags": []
   },
   "outputs": [
    {
     "data": {
      "text/plain": [
       "True"
      ]
     },
     "execution_count": 22,
     "metadata": {},
     "output_type": "execute_result"
    }
   ],
   "source": [
    "check_divisibility(10,2)"
   ]
  },
  {
   "cell_type": "code",
   "execution_count": 24,
   "id": "5fd9e14e-fb4f-44c2-95bc-39af8448e8a6",
   "metadata": {
    "tags": []
   },
   "outputs": [
    {
     "data": {
      "text/plain": [
       "False"
      ]
     },
     "execution_count": 24,
     "metadata": {},
     "output_type": "execute_result"
    }
   ],
   "source": [
    "check_divisibility(7,3)"
   ]
  }
 ],
 "metadata": {
  "kernelspec": {
   "display_name": "Python 3 (ipykernel)",
   "language": "python",
   "name": "python3"
  },
  "language_info": {
   "codemirror_mode": {
    "name": "ipython",
    "version": 3
   },
   "file_extension": ".py",
   "mimetype": "text/x-python",
   "name": "python",
   "nbconvert_exporter": "python",
   "pygments_lexer": "ipython3",
   "version": "3.11.5"
  }
 },
 "nbformat": 4,
 "nbformat_minor": 5
}
