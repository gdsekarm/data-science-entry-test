{
 "cells": [
  {
   "cell_type": "code",
   "execution_count": 18,
   "id": "c9d9e3df-4e7c-48ab-9a36-6b5f615bacbd",
   "metadata": {
    "tags": []
   },
   "outputs": [],
   "source": [
    "def swap(x, y):\n",
    "    if not (type(x) in (int, float) and type(y) in (int, float)):\n",
    "        return -1\n",
    "\n",
    "    # Swap the values using arithmetic operations\n",
    "    x = x + y\n",
    "    y = x - y\n",
    "    x = x - y\n",
    "    \n",
    "    print(f\"Swapped values: {x}, {y}\")\n",
    "    \n",
    "    return\n"
   ]
  },
  {
   "cell_type": "code",
   "execution_count": 20,
   "id": "5156f672-104b-455e-938d-b265fee54df3",
   "metadata": {
    "tags": []
   },
   "outputs": [
    {
     "data": {
      "text/plain": [
       "-1"
      ]
     },
     "execution_count": 20,
     "metadata": {},
     "output_type": "execute_result"
    }
   ],
   "source": [
    "swap(\"Apple\",10)"
   ]
  },
  {
   "cell_type": "code",
   "execution_count": 22,
   "id": "85f1b02b-5645-47f9-9cf7-1ee09d186af9",
   "metadata": {
    "tags": []
   },
   "outputs": [
    {
     "name": "stdout",
     "output_type": "stream",
     "text": [
      "Swapped values: 17, 9\n"
     ]
    }
   ],
   "source": [
    "swap(9,17)"
   ]
  },
  {
   "cell_type": "code",
   "execution_count": null,
   "id": "d8357051-a103-4b2a-a66e-e21066c1b504",
   "metadata": {},
   "outputs": [],
   "source": []
  }
 ],
 "metadata": {
  "kernelspec": {
   "display_name": "Python 3 (ipykernel)",
   "language": "python",
   "name": "python3"
  },
  "language_info": {
   "codemirror_mode": {
    "name": "ipython",
    "version": 3
   },
   "file_extension": ".py",
   "mimetype": "text/x-python",
   "name": "python",
   "nbconvert_exporter": "python",
   "pygments_lexer": "ipython3",
   "version": "3.11.5"
  }
 },
 "nbformat": 4,
 "nbformat_minor": 5
}
