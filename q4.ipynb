{
 "cells": [
  {
   "cell_type": "code",
   "execution_count": 2,
   "id": "7422ffcf-0164-4a00-85e8-107e1bb4517b",
   "metadata": {
    "tags": []
   },
   "outputs": [],
   "source": [
    "def string_reverse(s1):\n",
    "    if type(s1) is not str:\n",
    "        print(\"Error: The input 's1' must be a string.\")\n",
    "        return None\n",
    "\n",
    "    reversed_s1 = s1[::-1]\n",
    "    \n",
    "    return reversed_s1"
   ]
  },
  {
   "cell_type": "code",
   "execution_count": 4,
   "id": "41ddf6f5-a67c-43b0-80f8-0bd764853922",
   "metadata": {
    "tags": []
   },
   "outputs": [
    {
     "data": {
      "text/plain": [
       "'dlroW olleH'"
      ]
     },
     "execution_count": 4,
     "metadata": {},
     "output_type": "execute_result"
    }
   ],
   "source": [
    "string_reverse(\"Hello World\")"
   ]
  },
  {
   "cell_type": "code",
   "execution_count": 6,
   "id": "627d1a3d-a5dd-45e6-974a-46e29ae747ac",
   "metadata": {
    "tags": []
   },
   "outputs": [
    {
     "data": {
      "text/plain": [
       "'nohtyP'"
      ]
     },
     "execution_count": 6,
     "metadata": {},
     "output_type": "execute_result"
    }
   ],
   "source": [
    "string_reverse(\"Python\")"
   ]
  },
  {
   "cell_type": "code",
   "execution_count": null,
   "id": "bb1ea09a-7013-469a-a90b-e8c5fe76a332",
   "metadata": {},
   "outputs": [],
   "source": []
  }
 ],
 "metadata": {
  "kernelspec": {
   "display_name": "Python 3 (ipykernel)",
   "language": "python",
   "name": "python3"
  },
  "language_info": {
   "codemirror_mode": {
    "name": "ipython",
    "version": 3
   },
   "file_extension": ".py",
   "mimetype": "text/x-python",
   "name": "python",
   "nbconvert_exporter": "python",
   "pygments_lexer": "ipython3",
   "version": "3.11.5"
  }
 },
 "nbformat": 4,
 "nbformat_minor": 5
}
