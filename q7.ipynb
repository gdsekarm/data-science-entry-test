{
 "cells": [
  {
   "cell_type": "code",
   "execution_count": 8,
   "id": "4dfe6750-64c1-4bd9-b2c1-8264181b9fb7",
   "metadata": {
    "tags": []
   },
   "outputs": [],
   "source": [
    "class Car:\n",
    "    def __init__(self, make, model, year):\n",
    "        self.make = make\n",
    "        self.model = model\n",
    "        self.year = year\n",
    "\n",
    "    def describe_car(self):\n",
    "        print(f\"{self.year} {self.make} {self.model}\")"
   ]
  },
  {
   "cell_type": "code",
   "execution_count": 10,
   "id": "dad04682-7aa1-438d-9918-dded4b5fb705",
   "metadata": {
    "tags": []
   },
   "outputs": [],
   "source": [
    "Mycar = Car(\"Toyota\",\"Corolla\",2020)"
   ]
  },
  {
   "cell_type": "code",
   "execution_count": 12,
   "id": "882fb707-9408-4068-acc5-d69c037f1531",
   "metadata": {
    "tags": []
   },
   "outputs": [
    {
     "name": "stdout",
     "output_type": "stream",
     "text": [
      "2020 Toyota Corolla\n"
     ]
    }
   ],
   "source": [
    "Mycar.describe_car()"
   ]
  },
  {
   "cell_type": "code",
   "execution_count": null,
   "id": "c2c878b9-bdac-4eb9-80fa-b5947e66df22",
   "metadata": {},
   "outputs": [],
   "source": []
  }
 ],
 "metadata": {
  "kernelspec": {
   "display_name": "Python 3 (ipykernel)",
   "language": "python",
   "name": "python3"
  },
  "language_info": {
   "codemirror_mode": {
    "name": "ipython",
    "version": 3
   },
   "file_extension": ".py",
   "mimetype": "text/x-python",
   "name": "python",
   "nbconvert_exporter": "python",
   "pygments_lexer": "ipython3",
   "version": "3.11.5"
  }
 },
 "nbformat": 4,
 "nbformat_minor": 5
}
