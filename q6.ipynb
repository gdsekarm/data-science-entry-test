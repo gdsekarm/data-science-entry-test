{
 "cells": [
  {
   "cell_type": "code",
   "execution_count": 6,
   "id": "73f37aef-8cc8-4606-8d4a-f7d42bf842ad",
   "metadata": {
    "tags": []
   },
   "outputs": [],
   "source": [
    "def find_first_negative(lst):\n",
    "    i= 0\n",
    "\n",
    "    while i < len(lst):\n",
    "        num = lst[i]\n",
    "        if type(num) in (int, float) and num < 0:\n",
    "            return num\n",
    "        i += 1\n",
    "            \n",
    "    return \"No negatives\""
   ]
  },
  {
   "cell_type": "code",
   "execution_count": 8,
   "id": "f1838d04-1944-4dc1-96a1-99cb2612fbd6",
   "metadata": {
    "tags": []
   },
   "outputs": [
    {
     "data": {
      "text/plain": [
       "-1"
      ]
     },
     "execution_count": 8,
     "metadata": {},
     "output_type": "execute_result"
    }
   ],
   "source": [
    "find_first_negative([3, 5, -1, 7, -2, 8])"
   ]
  },
  {
   "cell_type": "code",
   "execution_count": 10,
   "id": "721877b8-8757-45b0-b07c-793073e83b73",
   "metadata": {
    "tags": []
   },
   "outputs": [
    {
     "data": {
      "text/plain": [
       "'No negatives'"
      ]
     },
     "execution_count": 10,
     "metadata": {},
     "output_type": "execute_result"
    }
   ],
   "source": [
    "find_first_negative([2, 10, 7, 0])"
   ]
  },
  {
   "cell_type": "code",
   "execution_count": null,
   "id": "d8393dbf-3fea-4264-bbe5-30b2ba35d2f2",
   "metadata": {},
   "outputs": [],
   "source": []
  }
 ],
 "metadata": {
  "kernelspec": {
   "display_name": "Python 3 (ipykernel)",
   "language": "python",
   "name": "python3"
  },
  "language_info": {
   "codemirror_mode": {
    "name": "ipython",
    "version": 3
   },
   "file_extension": ".py",
   "mimetype": "text/x-python",
   "name": "python",
   "nbconvert_exporter": "python",
   "pygments_lexer": "ipython3",
   "version": "3.11.5"
  }
 },
 "nbformat": 4,
 "nbformat_minor": 5
}
